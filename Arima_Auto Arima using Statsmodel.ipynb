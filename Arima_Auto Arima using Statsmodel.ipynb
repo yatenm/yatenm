{
 "cells": [
  {
   "cell_type": "code",
   "execution_count": 39,
   "id": "4fa9a01c",
   "metadata": {},
   "outputs": [],
   "source": [
    "# importing libraries\n",
    "import pandas as pd\n",
    "import numpy as np\n",
    "import matplotlib.pyplot as plt\n",
    "from statsmodels.tsa.stattools import adfuller\n",
    "from statsmodels.tsa.seasonal import seasonal_decompose\n",
    "import seaborn as sns\n",
    "import matplotlib.pyplot as plt\n",
    "plt.rc(\"figure\", figsize=(16, 6))\n",
    "plt.rc(\"font\", size=13)\n",
    "sns.set()\n",
    "from sklearn.model_selection import train_test_split"
   ]
  },
  {
   "cell_type": "markdown",
   "id": "47375096",
   "metadata": {},
   "source": [
    "### Loading Data"
   ]
  },
  {
   "cell_type": "code",
   "execution_count": 40,
   "id": "5409bd34",
   "metadata": {},
   "outputs": [],
   "source": [
    "data1 = pd.read_excel(r\"C:\\Users\\user\\Desktop\\Rawdata Overall and Product.xlsx\", sheet_name = 'Product_Data')"
   ]
  },
  {
   "cell_type": "code",
   "execution_count": 41,
   "id": "17b23d73",
   "metadata": {
    "scrolled": true
   },
   "outputs": [
    {
     "data": {
      "text/html": [
       "<div>\n",
       "<style scoped>\n",
       "    .dataframe tbody tr th:only-of-type {\n",
       "        vertical-align: middle;\n",
       "    }\n",
       "\n",
       "    .dataframe tbody tr th {\n",
       "        vertical-align: top;\n",
       "    }\n",
       "\n",
       "    .dataframe thead th {\n",
       "        text-align: right;\n",
       "    }\n",
       "</style>\n",
       "<table border=\"1\" class=\"dataframe\">\n",
       "  <thead>\n",
       "    <tr style=\"text-align: right;\">\n",
       "      <th></th>\n",
       "      <th>Date</th>\n",
       "      <th>No of Cases</th>\n",
       "    </tr>\n",
       "  </thead>\n",
       "  <tbody>\n",
       "    <tr>\n",
       "      <th>0</th>\n",
       "      <td>2017-01-01</td>\n",
       "      <td>15</td>\n",
       "    </tr>\n",
       "    <tr>\n",
       "      <th>1</th>\n",
       "      <td>2017-01-02</td>\n",
       "      <td>18</td>\n",
       "    </tr>\n",
       "    <tr>\n",
       "      <th>2</th>\n",
       "      <td>2017-01-03</td>\n",
       "      <td>45</td>\n",
       "    </tr>\n",
       "    <tr>\n",
       "      <th>3</th>\n",
       "      <td>2017-01-04</td>\n",
       "      <td>56</td>\n",
       "    </tr>\n",
       "    <tr>\n",
       "      <th>4</th>\n",
       "      <td>2017-01-05</td>\n",
       "      <td>421</td>\n",
       "    </tr>\n",
       "  </tbody>\n",
       "</table>\n",
       "</div>"
      ],
      "text/plain": [
       "        Date  No of Cases\n",
       "0 2017-01-01           15\n",
       "1 2017-01-02           18\n",
       "2 2017-01-03           45\n",
       "3 2017-01-04           56\n",
       "4 2017-01-05          421"
      ]
     },
     "execution_count": 41,
     "metadata": {},
     "output_type": "execute_result"
    }
   ],
   "source": [
    "data1.head()"
   ]
  },
  {
   "cell_type": "code",
   "execution_count": 42,
   "id": "1ce98588",
   "metadata": {
    "scrolled": true
   },
   "outputs": [
    {
     "data": {
      "text/plain": [
       "(2038, 2)"
      ]
     },
     "execution_count": 42,
     "metadata": {},
     "output_type": "execute_result"
    }
   ],
   "source": [
    "# Checking the shape of the data\n",
    "data1.shape"
   ]
  },
  {
   "cell_type": "code",
   "execution_count": 43,
   "id": "ce45a6db",
   "metadata": {},
   "outputs": [
    {
     "data": {
      "text/html": [
       "<div>\n",
       "<style scoped>\n",
       "    .dataframe tbody tr th:only-of-type {\n",
       "        vertical-align: middle;\n",
       "    }\n",
       "\n",
       "    .dataframe tbody tr th {\n",
       "        vertical-align: top;\n",
       "    }\n",
       "\n",
       "    .dataframe thead th {\n",
       "        text-align: right;\n",
       "    }\n",
       "</style>\n",
       "<table border=\"1\" class=\"dataframe\">\n",
       "  <thead>\n",
       "    <tr style=\"text-align: right;\">\n",
       "      <th></th>\n",
       "      <th>No of Cases</th>\n",
       "    </tr>\n",
       "  </thead>\n",
       "  <tbody>\n",
       "    <tr>\n",
       "      <th>count</th>\n",
       "      <td>2038.000000</td>\n",
       "    </tr>\n",
       "    <tr>\n",
       "      <th>mean</th>\n",
       "      <td>79.577036</td>\n",
       "    </tr>\n",
       "    <tr>\n",
       "      <th>std</th>\n",
       "      <td>49.468145</td>\n",
       "    </tr>\n",
       "    <tr>\n",
       "      <th>min</th>\n",
       "      <td>-231.000000</td>\n",
       "    </tr>\n",
       "    <tr>\n",
       "      <th>25%</th>\n",
       "      <td>15.000000</td>\n",
       "    </tr>\n",
       "    <tr>\n",
       "      <th>50%</th>\n",
       "      <td>100.000000</td>\n",
       "    </tr>\n",
       "    <tr>\n",
       "      <th>75%</th>\n",
       "      <td>116.000000</td>\n",
       "    </tr>\n",
       "    <tr>\n",
       "      <th>max</th>\n",
       "      <td>421.000000</td>\n",
       "    </tr>\n",
       "  </tbody>\n",
       "</table>\n",
       "</div>"
      ],
      "text/plain": [
       "       No of Cases\n",
       "count  2038.000000\n",
       "mean     79.577036\n",
       "std      49.468145\n",
       "min    -231.000000\n",
       "25%      15.000000\n",
       "50%     100.000000\n",
       "75%     116.000000\n",
       "max     421.000000"
      ]
     },
     "execution_count": 43,
     "metadata": {},
     "output_type": "execute_result"
    }
   ],
   "source": [
    "# Basic statistics of the data\n",
    "data1.describe()"
   ]
  },
  {
   "cell_type": "markdown",
   "id": "346da39c",
   "metadata": {},
   "source": [
    "### Checking for missing values"
   ]
  },
  {
   "cell_type": "code",
   "execution_count": 44,
   "id": "c6c6b708",
   "metadata": {
    "scrolled": true
   },
   "outputs": [
    {
     "data": {
      "text/plain": [
       "Date           0\n",
       "No of Cases    0\n",
       "dtype: int64"
      ]
     },
     "execution_count": 44,
     "metadata": {},
     "output_type": "execute_result"
    }
   ],
   "source": [
    "data1.isnull().sum()"
   ]
  },
  {
   "cell_type": "code",
   "execution_count": 45,
   "id": "fc2339d4",
   "metadata": {},
   "outputs": [],
   "source": [
    "# Changing the date variable to datetime format\n",
    "data1['Date'] =  pd.to_datetime(data1['Date'], format='%Y-%m-%d')"
   ]
  },
  {
   "cell_type": "code",
   "execution_count": 18,
   "id": "edd7b291",
   "metadata": {
    "scrolled": false
   },
   "outputs": [
    {
     "name": "stdout",
     "output_type": "stream",
     "text": [
      "<class 'pandas.core.frame.DataFrame'>\n",
      "RangeIndex: 2038 entries, 0 to 2037\n",
      "Data columns (total 2 columns):\n",
      " #   Column       Non-Null Count  Dtype         \n",
      "---  ------       --------------  -----         \n",
      " 0   Date         2038 non-null   datetime64[ns]\n",
      " 1   No of Cases  2038 non-null   int64         \n",
      "dtypes: datetime64[ns](1), int64(1)\n",
      "memory usage: 32.0 KB\n"
     ]
    }
   ],
   "source": [
    "data1.info()"
   ]
  },
  {
   "cell_type": "code",
   "execution_count": 28,
   "id": "8654d8f5",
   "metadata": {
    "scrolled": false
   },
   "outputs": [
    {
     "data": {
      "text/html": [
       "<div>\n",
       "<style scoped>\n",
       "    .dataframe tbody tr th:only-of-type {\n",
       "        vertical-align: middle;\n",
       "    }\n",
       "\n",
       "    .dataframe tbody tr th {\n",
       "        vertical-align: top;\n",
       "    }\n",
       "\n",
       "    .dataframe thead th {\n",
       "        text-align: right;\n",
       "    }\n",
       "</style>\n",
       "<table border=\"1\" class=\"dataframe\">\n",
       "  <thead>\n",
       "    <tr style=\"text-align: right;\">\n",
       "      <th></th>\n",
       "      <th>Date</th>\n",
       "      <th>No of Cases</th>\n",
       "    </tr>\n",
       "  </thead>\n",
       "  <tbody>\n",
       "    <tr>\n",
       "      <th>0</th>\n",
       "      <td>2017-01-01</td>\n",
       "      <td>300</td>\n",
       "    </tr>\n",
       "    <tr>\n",
       "      <th>1</th>\n",
       "      <td>2017-01-02</td>\n",
       "      <td>18</td>\n",
       "    </tr>\n",
       "    <tr>\n",
       "      <th>2</th>\n",
       "      <td>2017-01-03</td>\n",
       "      <td>45</td>\n",
       "    </tr>\n",
       "    <tr>\n",
       "      <th>3</th>\n",
       "      <td>2017-01-04</td>\n",
       "      <td>56</td>\n",
       "    </tr>\n",
       "    <tr>\n",
       "      <th>4</th>\n",
       "      <td>2017-01-05</td>\n",
       "      <td>421</td>\n",
       "    </tr>\n",
       "  </tbody>\n",
       "</table>\n",
       "</div>"
      ],
      "text/plain": [
       "        Date  No of Cases\n",
       "0 2017-01-01          300\n",
       "1 2017-01-02           18\n",
       "2 2017-01-03           45\n",
       "3 2017-01-04           56\n",
       "4 2017-01-05          421"
      ]
     },
     "execution_count": 28,
     "metadata": {},
     "output_type": "execute_result"
    }
   ],
   "source": [
    "data1.head()"
   ]
  },
  {
   "cell_type": "code",
   "execution_count": 46,
   "id": "d1c475dd",
   "metadata": {},
   "outputs": [
    {
     "data": {
      "text/html": [
       "<div>\n",
       "<style scoped>\n",
       "    .dataframe tbody tr th:only-of-type {\n",
       "        vertical-align: middle;\n",
       "    }\n",
       "\n",
       "    .dataframe tbody tr th {\n",
       "        vertical-align: top;\n",
       "    }\n",
       "\n",
       "    .dataframe thead th {\n",
       "        text-align: right;\n",
       "    }\n",
       "</style>\n",
       "<table border=\"1\" class=\"dataframe\">\n",
       "  <thead>\n",
       "    <tr style=\"text-align: right;\">\n",
       "      <th></th>\n",
       "      <th>Date</th>\n",
       "      <th>No of Cases</th>\n",
       "    </tr>\n",
       "  </thead>\n",
       "  <tbody>\n",
       "    <tr>\n",
       "      <th>0</th>\n",
       "      <td>2017-01-01</td>\n",
       "      <td>15</td>\n",
       "    </tr>\n",
       "    <tr>\n",
       "      <th>1</th>\n",
       "      <td>2017-01-02</td>\n",
       "      <td>18</td>\n",
       "    </tr>\n",
       "    <tr>\n",
       "      <th>2</th>\n",
       "      <td>2017-01-03</td>\n",
       "      <td>45</td>\n",
       "    </tr>\n",
       "    <tr>\n",
       "      <th>3</th>\n",
       "      <td>2017-01-04</td>\n",
       "      <td>56</td>\n",
       "    </tr>\n",
       "    <tr>\n",
       "      <th>4</th>\n",
       "      <td>2017-01-05</td>\n",
       "      <td>421</td>\n",
       "    </tr>\n",
       "    <tr>\n",
       "      <th>...</th>\n",
       "      <td>...</td>\n",
       "      <td>...</td>\n",
       "    </tr>\n",
       "    <tr>\n",
       "      <th>2033</th>\n",
       "      <td>2022-07-27</td>\n",
       "      <td>-231</td>\n",
       "    </tr>\n",
       "    <tr>\n",
       "      <th>2034</th>\n",
       "      <td>2022-07-28</td>\n",
       "      <td>99</td>\n",
       "    </tr>\n",
       "    <tr>\n",
       "      <th>2035</th>\n",
       "      <td>2022-07-29</td>\n",
       "      <td>99</td>\n",
       "    </tr>\n",
       "    <tr>\n",
       "      <th>2036</th>\n",
       "      <td>2022-07-30</td>\n",
       "      <td>5</td>\n",
       "    </tr>\n",
       "    <tr>\n",
       "      <th>2037</th>\n",
       "      <td>2022-07-31</td>\n",
       "      <td>350</td>\n",
       "    </tr>\n",
       "  </tbody>\n",
       "</table>\n",
       "<p>2038 rows × 2 columns</p>\n",
       "</div>"
      ],
      "text/plain": [
       "           Date  No of Cases\n",
       "0    2017-01-01           15\n",
       "1    2017-01-02           18\n",
       "2    2017-01-03           45\n",
       "3    2017-01-04           56\n",
       "4    2017-01-05          421\n",
       "...         ...          ...\n",
       "2033 2022-07-27         -231\n",
       "2034 2022-07-28           99\n",
       "2035 2022-07-29           99\n",
       "2036 2022-07-30            5\n",
       "2037 2022-07-31          350\n",
       "\n",
       "[2038 rows x 2 columns]"
      ]
     },
     "execution_count": 46,
     "metadata": {},
     "output_type": "execute_result"
    }
   ],
   "source": [
    "#converting a single column DataFrame into a Series\n",
    "data1.squeeze()"
   ]
  },
  {
   "cell_type": "code",
   "execution_count": 47,
   "id": "03ef992c",
   "metadata": {},
   "outputs": [],
   "source": [
    "data1.set_index('Date', inplace=True)"
   ]
  },
  {
   "cell_type": "code",
   "execution_count": 48,
   "id": "e40cb923",
   "metadata": {
    "scrolled": false
   },
   "outputs": [
    {
     "data": {
      "text/plain": [
       "[<matplotlib.lines.Line2D at 0x2865c4e1c40>]"
      ]
     },
     "execution_count": 48,
     "metadata": {},
     "output_type": "execute_result"
    },
    {
     "data": {
      "image/png": "[encoded data removed]",
      "text/plain": [
       "<Figure size 1152x432 with 1 Axes>"
      ]
     },
     "metadata": {},
     "output_type": "display_data"
    }
   ],
   "source": [
    "# Creating Line chart to see high level view of the data\n",
    "plt.ylabel('Date')\n",
    "plt.xlabel('No of Cases')\n",
    "plt.xticks(rotation=45)\n",
    "plt.plot(data1.index, data1['No of Cases'], )"
   ]
  },
  {
   "cell_type": "code",
   "execution_count": 49,
   "id": "67d81966",
   "metadata": {},
   "outputs": [
    {
     "data": {
      "text/plain": [
       "<seaborn.axisgrid.FacetGrid at 0x28658fb6790>"
      ]
     },
     "execution_count": 49,
     "metadata": {},
     "output_type": "execute_result"
    },
    {
     "data": {
      "image/png": "[encoded data removed]",
      "text/plain": [
       "<Figure size 360x360 with 1 Axes>"
      ]
     },
     "metadata": {},
     "output_type": "display_data"
    }
   ],
   "source": [
    "# Checking the distribution of the data\n",
    "sns.displot(data1['No of Cases'],bins=40,color=\"orange\")"
   ]
  },
  {
   "cell_type": "code",
   "execution_count": 50,
   "id": "ced009ca",
   "metadata": {},
   "outputs": [],
   "source": [
    "#The data is left skewed"
   ]
  },
  {
   "cell_type": "code",
   "execution_count": 51,
   "id": "024d07ef",
   "metadata": {
    "scrolled": true
   },
   "outputs": [
    {
     "data": {
      "text/plain": [
       "{'whiskers': [<matplotlib.lines.Line2D at 0x2865c82ddf0>,\n",
       "  <matplotlib.lines.Line2D at 0x2865c83f100>],\n",
       " 'caps': [<matplotlib.lines.Line2D at 0x2865c83f3d0>,\n",
       "  <matplotlib.lines.Line2D at 0x2865c83f6a0>],\n",
       " 'boxes': [<matplotlib.lines.Line2D at 0x2865c82dc40>],\n",
       " 'medians': [<matplotlib.lines.Line2D at 0x2865c83f970>],\n",
       " 'fliers': [<matplotlib.lines.Line2D at 0x2865c83fc40>],\n",
       " 'means': []}"
      ]
     },
     "execution_count": 51,
     "metadata": {},
     "output_type": "execute_result"
    },
    {
     "data": {
      "image/png": "[encoded data removed]",
      "text/plain": [
       "<Figure size 1152x432 with 1 Axes>"
      ]
     },
     "metadata": {},
     "output_type": "display_data"
    }
   ],
   "source": [
    "# Identifying outliers through Box plot\n",
    "plt.boxplot(data1)"
   ]
  },
  {
   "cell_type": "markdown",
   "id": "ac203655",
   "metadata": {},
   "source": [
    "### Handling and identifying outliers using IQR method"
   ]
  },
  {
   "cell_type": "code",
   "execution_count": 52,
   "id": "d7874623",
   "metadata": {},
   "outputs": [
    {
     "name": "stdout",
     "output_type": "stream",
     "text": [
      "116.0 15.0\n",
      "101.0\n",
      "267.5\n",
      "-136.5\n"
     ]
    },
    {
     "data": {
      "text/html": [
       "<div>\n",
       "<style scoped>\n",
       "    .dataframe tbody tr th:only-of-type {\n",
       "        vertical-align: middle;\n",
       "    }\n",
       "\n",
       "    .dataframe tbody tr th {\n",
       "        vertical-align: top;\n",
       "    }\n",
       "\n",
       "    .dataframe thead th {\n",
       "        text-align: right;\n",
       "    }\n",
       "</style>\n",
       "<table border=\"1\" class=\"dataframe\">\n",
       "  <thead>\n",
       "    <tr style=\"text-align: right;\">\n",
       "      <th></th>\n",
       "      <th>No of Cases</th>\n",
       "    </tr>\n",
       "    <tr>\n",
       "      <th>Date</th>\n",
       "      <th></th>\n",
       "    </tr>\n",
       "  </thead>\n",
       "  <tbody>\n",
       "    <tr>\n",
       "      <th>2017-01-01</th>\n",
       "      <td>15.0</td>\n",
       "    </tr>\n",
       "    <tr>\n",
       "      <th>2017-01-02</th>\n",
       "      <td>18.0</td>\n",
       "    </tr>\n",
       "    <tr>\n",
       "      <th>2017-01-03</th>\n",
       "      <td>45.0</td>\n",
       "    </tr>\n",
       "    <tr>\n",
       "      <th>2017-01-04</th>\n",
       "      <td>56.0</td>\n",
       "    </tr>\n",
       "    <tr>\n",
       "      <th>2017-01-05</th>\n",
       "      <td>NaN</td>\n",
       "    </tr>\n",
       "    <tr>\n",
       "      <th>...</th>\n",
       "      <td>...</td>\n",
       "    </tr>\n",
       "    <tr>\n",
       "      <th>2022-07-27</th>\n",
       "      <td>NaN</td>\n",
       "    </tr>\n",
       "    <tr>\n",
       "      <th>2022-07-28</th>\n",
       "      <td>99.0</td>\n",
       "    </tr>\n",
       "    <tr>\n",
       "      <th>2022-07-29</th>\n",
       "      <td>99.0</td>\n",
       "    </tr>\n",
       "    <tr>\n",
       "      <th>2022-07-30</th>\n",
       "      <td>5.0</td>\n",
       "    </tr>\n",
       "    <tr>\n",
       "      <th>2022-07-31</th>\n",
       "      <td>NaN</td>\n",
       "    </tr>\n",
       "  </tbody>\n",
       "</table>\n",
       "<p>2038 rows × 1 columns</p>\n",
       "</div>"
      ],
      "text/plain": [
       "            No of Cases\n",
       "Date                   \n",
       "2017-01-01         15.0\n",
       "2017-01-02         18.0\n",
       "2017-01-03         45.0\n",
       "2017-01-04         56.0\n",
       "2017-01-05          NaN\n",
       "...                 ...\n",
       "2022-07-27          NaN\n",
       "2022-07-28         99.0\n",
       "2022-07-29         99.0\n",
       "2022-07-30          5.0\n",
       "2022-07-31          NaN\n",
       "\n",
       "[2038 rows x 1 columns]"
      ]
     },
     "execution_count": 52,
     "metadata": {},
     "output_type": "execute_result"
    }
   ],
   "source": [
    "q3, q1 = np.percentile(data1, [75, 25])\n",
    "print(q3, q1)\n",
    "IQR = q3 - q1\n",
    "print(IQR)\n",
    "\n",
    "upper_bound = q3 + 1.5 * IQR\n",
    "lower_bound = q1 - 1.5 * IQR\n",
    "print(upper_bound)\n",
    "print(lower_bound)\n",
    "\n",
    "data1 = data1[data1 < upper_bound]\n",
    "data1 = data1[data1 > lower_bound]\n",
    "data1"
   ]
  },
  {
   "cell_type": "code",
   "execution_count": 53,
   "id": "c6a417f1",
   "metadata": {
    "scrolled": true
   },
   "outputs": [
    {
     "data": {
      "text/plain": [
       "No of Cases    3\n",
       "dtype: int64"
      ]
     },
     "execution_count": 53,
     "metadata": {},
     "output_type": "execute_result"
    }
   ],
   "source": [
    "data1.isnull().sum()"
   ]
  },
  {
   "cell_type": "markdown",
   "id": "4fb1504b",
   "metadata": {},
   "source": [
    "### Imputation of missing values by Interpolation technique"
   ]
  },
  {
   "cell_type": "code",
   "execution_count": 54,
   "id": "b1bf778f",
   "metadata": {},
   "outputs": [],
   "source": [
    "data1['Interpolate_Spline']= data1['No of Cases'].interpolate(option='spline')"
   ]
  },
  {
   "cell_type": "code",
   "execution_count": 55,
   "id": "de84b619",
   "metadata": {
    "scrolled": false
   },
   "outputs": [
    {
     "data": {
      "text/html": [
       "<div>\n",
       "<style scoped>\n",
       "    .dataframe tbody tr th:only-of-type {\n",
       "        vertical-align: middle;\n",
       "    }\n",
       "\n",
       "    .dataframe tbody tr th {\n",
       "        vertical-align: top;\n",
       "    }\n",
       "\n",
       "    .dataframe thead th {\n",
       "        text-align: right;\n",
       "    }\n",
       "</style>\n",
       "<table border=\"1\" class=\"dataframe\">\n",
       "  <thead>\n",
       "    <tr style=\"text-align: right;\">\n",
       "      <th></th>\n",
       "      <th>No of Cases</th>\n",
       "      <th>Interpolate_Spline</th>\n",
       "    </tr>\n",
       "    <tr>\n",
       "      <th>Date</th>\n",
       "      <th></th>\n",
       "      <th></th>\n",
       "    </tr>\n",
       "  </thead>\n",
       "  <tbody>\n",
       "    <tr>\n",
       "      <th>2017-01-01</th>\n",
       "      <td>15.0</td>\n",
       "      <td>15.0</td>\n",
       "    </tr>\n",
       "    <tr>\n",
       "      <th>2017-01-02</th>\n",
       "      <td>18.0</td>\n",
       "      <td>18.0</td>\n",
       "    </tr>\n",
       "    <tr>\n",
       "      <th>2017-01-03</th>\n",
       "      <td>45.0</td>\n",
       "      <td>45.0</td>\n",
       "    </tr>\n",
       "    <tr>\n",
       "      <th>2017-01-04</th>\n",
       "      <td>56.0</td>\n",
       "      <td>56.0</td>\n",
       "    </tr>\n",
       "    <tr>\n",
       "      <th>2017-01-05</th>\n",
       "      <td>NaN</td>\n",
       "      <td>51.5</td>\n",
       "    </tr>\n",
       "    <tr>\n",
       "      <th>...</th>\n",
       "      <td>...</td>\n",
       "      <td>...</td>\n",
       "    </tr>\n",
       "    <tr>\n",
       "      <th>2022-07-27</th>\n",
       "      <td>NaN</td>\n",
       "      <td>101.0</td>\n",
       "    </tr>\n",
       "    <tr>\n",
       "      <th>2022-07-28</th>\n",
       "      <td>99.0</td>\n",
       "      <td>99.0</td>\n",
       "    </tr>\n",
       "    <tr>\n",
       "      <th>2022-07-29</th>\n",
       "      <td>99.0</td>\n",
       "      <td>99.0</td>\n",
       "    </tr>\n",
       "    <tr>\n",
       "      <th>2022-07-30</th>\n",
       "      <td>5.0</td>\n",
       "      <td>5.0</td>\n",
       "    </tr>\n",
       "    <tr>\n",
       "      <th>2022-07-31</th>\n",
       "      <td>NaN</td>\n",
       "      <td>5.0</td>\n",
       "    </tr>\n",
       "  </tbody>\n",
       "</table>\n",
       "<p>2038 rows × 2 columns</p>\n",
       "</div>"
      ],
      "text/plain": [
       "            No of Cases  Interpolate_Spline\n",
       "Date                                       \n",
       "2017-01-01         15.0                15.0\n",
       "2017-01-02         18.0                18.0\n",
       "2017-01-03         45.0                45.0\n",
       "2017-01-04         56.0                56.0\n",
       "2017-01-05          NaN                51.5\n",
       "...                 ...                 ...\n",
       "2022-07-27          NaN               101.0\n",
       "2022-07-28         99.0                99.0\n",
       "2022-07-29         99.0                99.0\n",
       "2022-07-30          5.0                 5.0\n",
       "2022-07-31          NaN                 5.0\n",
       "\n",
       "[2038 rows x 2 columns]"
      ]
     },
     "execution_count": 55,
     "metadata": {},
     "output_type": "execute_result"
    }
   ],
   "source": [
    "data1"
   ]
  },
  {
   "cell_type": "code",
   "execution_count": 56,
   "id": "039ae930",
   "metadata": {},
   "outputs": [],
   "source": [
    "data1 = data1.rename(columns={'Interpolate_Spline': 'No of Cases_'})"
   ]
  },
  {
   "cell_type": "code",
   "execution_count": 57,
   "id": "18368292",
   "metadata": {
    "scrolled": true
   },
   "outputs": [
    {
     "data": {
      "text/html": [
       "<div>\n",
       "<style scoped>\n",
       "    .dataframe tbody tr th:only-of-type {\n",
       "        vertical-align: middle;\n",
       "    }\n",
       "\n",
       "    .dataframe tbody tr th {\n",
       "        vertical-align: top;\n",
       "    }\n",
       "\n",
       "    .dataframe thead th {\n",
       "        text-align: right;\n",
       "    }\n",
       "</style>\n",
       "<table border=\"1\" class=\"dataframe\">\n",
       "  <thead>\n",
       "    <tr style=\"text-align: right;\">\n",
       "      <th></th>\n",
       "      <th>No of Cases</th>\n",
       "      <th>No of Cases_</th>\n",
       "    </tr>\n",
       "    <tr>\n",
       "      <th>Date</th>\n",
       "      <th></th>\n",
       "      <th></th>\n",
       "    </tr>\n",
       "  </thead>\n",
       "  <tbody>\n",
       "    <tr>\n",
       "      <th>2017-01-01</th>\n",
       "      <td>15.0</td>\n",
       "      <td>15.0</td>\n",
       "    </tr>\n",
       "    <tr>\n",
       "      <th>2017-01-02</th>\n",
       "      <td>18.0</td>\n",
       "      <td>18.0</td>\n",
       "    </tr>\n",
       "    <tr>\n",
       "      <th>2017-01-03</th>\n",
       "      <td>45.0</td>\n",
       "      <td>45.0</td>\n",
       "    </tr>\n",
       "    <tr>\n",
       "      <th>2017-01-04</th>\n",
       "      <td>56.0</td>\n",
       "      <td>56.0</td>\n",
       "    </tr>\n",
       "    <tr>\n",
       "      <th>2017-01-05</th>\n",
       "      <td>NaN</td>\n",
       "      <td>51.5</td>\n",
       "    </tr>\n",
       "    <tr>\n",
       "      <th>...</th>\n",
       "      <td>...</td>\n",
       "      <td>...</td>\n",
       "    </tr>\n",
       "    <tr>\n",
       "      <th>2022-07-27</th>\n",
       "      <td>NaN</td>\n",
       "      <td>101.0</td>\n",
       "    </tr>\n",
       "    <tr>\n",
       "      <th>2022-07-28</th>\n",
       "      <td>99.0</td>\n",
       "      <td>99.0</td>\n",
       "    </tr>\n",
       "    <tr>\n",
       "      <th>2022-07-29</th>\n",
       "      <td>99.0</td>\n",
       "      <td>99.0</td>\n",
       "    </tr>\n",
       "    <tr>\n",
       "      <th>2022-07-30</th>\n",
       "      <td>5.0</td>\n",
       "      <td>5.0</td>\n",
       "    </tr>\n",
       "    <tr>\n",
       "      <th>2022-07-31</th>\n",
       "      <td>NaN</td>\n",
       "      <td>5.0</td>\n",
       "    </tr>\n",
       "  </tbody>\n",
       "</table>\n",
       "<p>2038 rows × 2 columns</p>\n",
       "</div>"
      ],
      "text/plain": [
       "            No of Cases  No of Cases_\n",
       "Date                                 \n",
       "2017-01-01         15.0          15.0\n",
       "2017-01-02         18.0          18.0\n",
       "2017-01-03         45.0          45.0\n",
       "2017-01-04         56.0          56.0\n",
       "2017-01-05          NaN          51.5\n",
       "...                 ...           ...\n",
       "2022-07-27          NaN         101.0\n",
       "2022-07-28         99.0          99.0\n",
       "2022-07-29         99.0          99.0\n",
       "2022-07-30          5.0           5.0\n",
       "2022-07-31          NaN           5.0\n",
       "\n",
       "[2038 rows x 2 columns]"
      ]
     },
     "execution_count": 57,
     "metadata": {},
     "output_type": "execute_result"
    }
   ],
   "source": [
    "data1"
   ]
  },
  {
   "cell_type": "code",
   "execution_count": 58,
   "id": "a2e6f279",
   "metadata": {},
   "outputs": [],
   "source": [
    "data1.drop(['No of Cases'], axis=1, inplace=True)"
   ]
  },
  {
   "cell_type": "code",
   "execution_count": 59,
   "id": "6b3cf2e3",
   "metadata": {
    "scrolled": true
   },
   "outputs": [
    {
     "data": {
      "text/plain": [
       "No of Cases_    0\n",
       "dtype: int64"
      ]
     },
     "execution_count": 59,
     "metadata": {},
     "output_type": "execute_result"
    }
   ],
   "source": [
    "data1.isnull().sum()"
   ]
  },
  {
   "cell_type": "code",
   "execution_count": 60,
   "id": "1c453594",
   "metadata": {},
   "outputs": [
    {
     "data": {
      "text/html": [
       "<div>\n",
       "<style scoped>\n",
       "    .dataframe tbody tr th:only-of-type {\n",
       "        vertical-align: middle;\n",
       "    }\n",
       "\n",
       "    .dataframe tbody tr th {\n",
       "        vertical-align: top;\n",
       "    }\n",
       "\n",
       "    .dataframe thead th {\n",
       "        text-align: right;\n",
       "    }\n",
       "</style>\n",
       "<table border=\"1\" class=\"dataframe\">\n",
       "  <thead>\n",
       "    <tr style=\"text-align: right;\">\n",
       "      <th></th>\n",
       "      <th>No of Cases_</th>\n",
       "    </tr>\n",
       "    <tr>\n",
       "      <th>Date</th>\n",
       "      <th></th>\n",
       "    </tr>\n",
       "  </thead>\n",
       "  <tbody>\n",
       "    <tr>\n",
       "      <th>2017-01-01</th>\n",
       "      <td>15.0</td>\n",
       "    </tr>\n",
       "    <tr>\n",
       "      <th>2017-01-02</th>\n",
       "      <td>18.0</td>\n",
       "    </tr>\n",
       "    <tr>\n",
       "      <th>2017-01-03</th>\n",
       "      <td>45.0</td>\n",
       "    </tr>\n",
       "    <tr>\n",
       "      <th>2017-01-04</th>\n",
       "      <td>56.0</td>\n",
       "    </tr>\n",
       "    <tr>\n",
       "      <th>2017-01-05</th>\n",
       "      <td>51.5</td>\n",
       "    </tr>\n",
       "    <tr>\n",
       "      <th>...</th>\n",
       "      <td>...</td>\n",
       "    </tr>\n",
       "    <tr>\n",
       "      <th>2022-07-27</th>\n",
       "      <td>101.0</td>\n",
       "    </tr>\n",
       "    <tr>\n",
       "      <th>2022-07-28</th>\n",
       "      <td>99.0</td>\n",
       "    </tr>\n",
       "    <tr>\n",
       "      <th>2022-07-29</th>\n",
       "      <td>99.0</td>\n",
       "    </tr>\n",
       "    <tr>\n",
       "      <th>2022-07-30</th>\n",
       "      <td>5.0</td>\n",
       "    </tr>\n",
       "    <tr>\n",
       "      <th>2022-07-31</th>\n",
       "      <td>5.0</td>\n",
       "    </tr>\n",
       "  </tbody>\n",
       "</table>\n",
       "<p>2038 rows × 1 columns</p>\n",
       "</div>"
      ],
      "text/plain": [
       "            No of Cases_\n",
       "Date                    \n",
       "2017-01-01          15.0\n",
       "2017-01-02          18.0\n",
       "2017-01-03          45.0\n",
       "2017-01-04          56.0\n",
       "2017-01-05          51.5\n",
       "...                  ...\n",
       "2022-07-27         101.0\n",
       "2022-07-28          99.0\n",
       "2022-07-29          99.0\n",
       "2022-07-30           5.0\n",
       "2022-07-31           5.0\n",
       "\n",
       "[2038 rows x 1 columns]"
      ]
     },
     "execution_count": 60,
     "metadata": {},
     "output_type": "execute_result"
    }
   ],
   "source": [
    "data1"
   ]
  },
  {
   "cell_type": "markdown",
   "id": "469b5f9b",
   "metadata": {},
   "source": [
    "### Stationarity identification"
   ]
  },
  {
   "cell_type": "code",
   "execution_count": 15,
   "id": "b080e2de",
   "metadata": {},
   "outputs": [
    {
     "name": "stdout",
     "output_type": "stream",
     "text": [
      "ADF Statistic: -7.634240555879367\n",
      "n_lags: 1.9717125070853214e-11\n",
      "p-value: 1.9717125070853214e-11\n",
      "Critial Values:\n",
      "   1%, -3.43359945413637\n",
      "Critial Values:\n",
      "   5%, -2.8629754397529616\n",
      "Critial Values:\n",
      "   10%, -2.5675341657789903\n"
     ]
    }
   ],
   "source": [
    "result = adfuller(data1, autolag='AIC')\n",
    "print(f'ADF Statistic: {result[0]}')\n",
    "print(f'n_lags: {result[1]}')\n",
    "print(f'p-value: {result[1]}')\n",
    "for key, value in result[4].items():\n",
    "    print('Critial Values:')\n",
    "    print(f'   {key}, {value}')"
   ]
  },
  {
   "cell_type": "code",
   "execution_count": 16,
   "id": "30ec93c9",
   "metadata": {},
   "outputs": [],
   "source": [
    "# As the p-value is greater than 0.05 , so we fail to reject the null hypothesis which means the data is non Stationary"
   ]
  },
  {
   "cell_type": "code",
   "execution_count": 61,
   "id": "b3d453a6",
   "metadata": {
    "scrolled": false
   },
   "outputs": [
    {
     "data": {
      "image/png": "[encoded data removed]",
      "text/plain": [
       "<Figure size 1152x432 with 4 Axes>"
      ]
     },
     "metadata": {},
     "output_type": "display_data"
    }
   ],
   "source": [
    "#decomposing data to separate and visualize trend and seasonality\n",
    "decompose_result = seasonal_decompose(data1,model='multiplicative')\n",
    "decompose_result.plot();"
   ]
  },
  {
   "cell_type": "code",
   "execution_count": 18,
   "id": "ed15714b",
   "metadata": {},
   "outputs": [],
   "source": [
    "# As per the graph, the data has trend and seasonality in it"
   ]
  },
  {
   "cell_type": "code",
   "execution_count": 19,
   "id": "d459617f",
   "metadata": {},
   "outputs": [
    {
     "name": "stdout",
     "output_type": "stream",
     "text": [
      "(1630, 1)\n",
      "(408, 1)\n"
     ]
    }
   ],
   "source": [
    "# Splitting data in train and test set\n",
    "from sklearn.model_selection import train_test_split\n",
    "train, test = train_test_split(data1, test_size = 0.20, random_state = 5)\n",
    "print(train.shape)\n",
    "print(test.shape)"
   ]
  },
  {
   "cell_type": "markdown",
   "id": "684240e1",
   "metadata": {},
   "source": [
    "#### We will try Arima and Auto Arima approach to see which one gives better accuracy"
   ]
  },
  {
   "cell_type": "markdown",
   "id": "b1210da8",
   "metadata": {},
   "source": [
    "### ARIMA"
   ]
  },
  {
   "cell_type": "code",
   "execution_count": 20,
   "id": "70d3f6e4",
   "metadata": {},
   "outputs": [],
   "source": [
    "# importing ARIMA module\n",
    "from statsmodels.tsa.arima.model import ARIMA"
   ]
  },
  {
   "cell_type": "code",
   "execution_count": 21,
   "id": "24834900",
   "metadata": {
    "scrolled": true
   },
   "outputs": [
    {
     "data": {
      "text/plain": [
       "Date\n",
       "2017-01-01      2\n",
       "2017-01-02     18\n",
       "2017-01-03     45\n",
       "2017-01-04     56\n",
       "2017-01-05     68\n",
       "             ... \n",
       "2022-07-27    116\n",
       "2022-07-28     99\n",
       "2022-07-29     99\n",
       "2022-07-30      5\n",
       "2022-07-31      2\n",
       "Name: No of Cases, Length: 2038, dtype: int64"
      ]
     },
     "execution_count": 21,
     "metadata": {},
     "output_type": "execute_result"
    }
   ],
   "source": [
    "data1.squeeze()"
   ]
  },
  {
   "cell_type": "code",
   "execution_count": 22,
   "id": "d7591584",
   "metadata": {
    "scrolled": true
   },
   "outputs": [
    {
     "data": {
      "text/plain": [
       "DatetimeIndex(['2020-08-17', '2021-11-16', '2019-05-21', '2017-05-22',\n",
       "               '2020-07-09', '2021-04-04', '2022-03-05', '2019-04-30',\n",
       "               '2022-07-31', '2019-08-08',\n",
       "               ...\n",
       "               '2019-09-05', '2018-05-20', '2021-08-28', '2018-12-10',\n",
       "               '2021-03-04', '2022-05-16', '2020-04-17', '2020-11-29',\n",
       "               '2021-02-03', '2020-05-02'],\n",
       "              dtype='datetime64[ns]', name='Date', length=408, freq=None)"
      ]
     },
     "execution_count": 22,
     "metadata": {},
     "output_type": "execute_result"
    }
   ],
   "source": [
    "test.index"
   ]
  },
  {
   "cell_type": "code",
   "execution_count": 23,
   "id": "43af016a",
   "metadata": {
    "scrolled": true
   },
   "outputs": [
    {
     "name": "stderr",
     "output_type": "stream",
     "text": [
      "C:\\Users\\user\\anaconda3\\lib\\site-packages\\statsmodels\\tsa\\base\\tsa_model.py:471: ValueWarning: A date index has been provided, but it has no associated frequency information and so will be ignored when e.g. forecasting.\n",
      "  self._init_dates(dates, freq)\n",
      "C:\\Users\\user\\anaconda3\\lib\\site-packages\\statsmodels\\tsa\\base\\tsa_model.py:471: ValueWarning: A date index has been provided, but it is not monotonic and so will be ignored when e.g. forecasting.\n",
      "  self._init_dates(dates, freq)\n",
      "C:\\Users\\user\\anaconda3\\lib\\site-packages\\statsmodels\\tsa\\base\\tsa_model.py:471: ValueWarning: A date index has been provided, but it has no associated frequency information and so will be ignored when e.g. forecasting.\n",
      "  self._init_dates(dates, freq)\n",
      "C:\\Users\\user\\anaconda3\\lib\\site-packages\\statsmodels\\tsa\\base\\tsa_model.py:471: ValueWarning: A date index has been provided, but it is not monotonic and so will be ignored when e.g. forecasting.\n",
      "  self._init_dates(dates, freq)\n",
      "C:\\Users\\user\\anaconda3\\lib\\site-packages\\statsmodels\\tsa\\base\\tsa_model.py:471: ValueWarning: A date index has been provided, but it has no associated frequency information and so will be ignored when e.g. forecasting.\n",
      "  self._init_dates(dates, freq)\n",
      "C:\\Users\\user\\anaconda3\\lib\\site-packages\\statsmodels\\tsa\\base\\tsa_model.py:471: ValueWarning: A date index has been provided, but it is not monotonic and so will be ignored when e.g. forecasting.\n",
      "  self._init_dates(dates, freq)\n",
      "C:\\Users\\user\\anaconda3\\lib\\site-packages\\statsmodels\\base\\model.py:604: ConvergenceWarning: Maximum Likelihood optimization failed to converge. Check mle_retvals\n",
      "  warnings.warn(\"Maximum Likelihood optimization failed to \"\n"
     ]
    }
   ],
   "source": [
    "# Creating model on training set with manual p,d,q values\n",
    "y = train['No of Cases']\n",
    "ARIMAmodel = ARIMA(y, order = (2,1, 2))\n",
    "ARIMAmodel = ARIMAmodel.fit()"
   ]
  },
  {
   "cell_type": "code",
   "execution_count": 24,
   "id": "89612394",
   "metadata": {},
   "outputs": [
    {
     "name": "stderr",
     "output_type": "stream",
     "text": [
      "C:\\Users\\user\\anaconda3\\lib\\site-packages\\statsmodels\\tsa\\base\\tsa_model.py:834: ValueWarning: No supported index is available. Prediction results will be given with an integer index beginning at `start`.\n",
      "  return get_prediction_index(\n",
      "C:\\Users\\user\\anaconda3\\lib\\site-packages\\statsmodels\\tsa\\base\\tsa_model.py:834: ValueWarning: No supported index is available. Prediction results will be given with an integer index beginning at `start`.\n",
      "  return get_prediction_index(\n"
     ]
    }
   ],
   "source": [
    "# doing prediction with that model\n",
    "y_pred = ARIMAmodel.get_forecast(len(test.index))\n",
    "y_pred_df = y_pred.conf_int(alpha = 0.05) \n",
    "y_pred_df[\"Predictions\"] = ARIMAmodel.predict(start = y_pred_df.index[0], end = y_pred_df.index[-1])\n",
    "y_pred_df.index = test.index\n",
    "y_pred_out = y_pred_df[\"Predictions\"] \n",
    "#plt.plot(test.index,test['No of Cases'], color='blue', label = 'test')\n",
    "#plt.plot(y_pred_out, color='green', label = 'ARIMA Predictions')\n",
    "#plt.legend()\n",
    "#plt.show()"
   ]
  },
  {
   "cell_type": "code",
   "execution_count": 25,
   "id": "f5f55b9e",
   "metadata": {
    "scrolled": true
   },
   "outputs": [
    {
     "data": {
      "text/html": [
       "<table class=\"simpletable\">\n",
       "<caption>SARIMAX Results</caption>\n",
       "<tr>\n",
       "  <th>Dep. Variable:</th>      <td>No of Cases</td>   <th>  No. Observations:  </th>   <td>1630</td>   \n",
       "</tr>\n",
       "<tr>\n",
       "  <th>Model:</th>            <td>ARIMA(2, 1, 2)</td>  <th>  Log Likelihood     </th> <td>-8614.726</td>\n",
       "</tr>\n",
       "<tr>\n",
       "  <th>Date:</th>            <td>Fri, 04 Nov 2022</td> <th>  AIC                </th> <td>17239.452</td>\n",
       "</tr>\n",
       "<tr>\n",
       "  <th>Time:</th>                <td>17:16:50</td>     <th>  BIC                </th> <td>17266.430</td>\n",
       "</tr>\n",
       "<tr>\n",
       "  <th>Sample:</th>                  <td>0</td>        <th>  HQIC               </th> <td>17249.461</td>\n",
       "</tr>\n",
       "<tr>\n",
       "  <th></th>                      <td> - 1630</td>     <th>                     </th>     <td> </td>    \n",
       "</tr>\n",
       "<tr>\n",
       "  <th>Covariance Type:</th>        <td>opg</td>       <th>                     </th>     <td> </td>    \n",
       "</tr>\n",
       "</table>\n",
       "<table class=\"simpletable\">\n",
       "<tr>\n",
       "     <td></td>       <th>coef</th>     <th>std err</th>      <th>z</th>      <th>P>|z|</th>  <th>[0.025</th>    <th>0.975]</th>  \n",
       "</tr>\n",
       "<tr>\n",
       "  <th>ar.L1</th>  <td>   -0.8409</td> <td>    0.203</td> <td>   -4.146</td> <td> 0.000</td> <td>   -1.238</td> <td>   -0.443</td>\n",
       "</tr>\n",
       "<tr>\n",
       "  <th>ar.L2</th>  <td>   -0.0210</td> <td>    0.027</td> <td>   -0.777</td> <td> 0.437</td> <td>   -0.074</td> <td>    0.032</td>\n",
       "</tr>\n",
       "<tr>\n",
       "  <th>ma.L1</th>  <td>   -0.1595</td> <td>    0.210</td> <td>   -0.760</td> <td> 0.447</td> <td>   -0.571</td> <td>    0.252</td>\n",
       "</tr>\n",
       "<tr>\n",
       "  <th>ma.L2</th>  <td>   -0.8404</td> <td>    0.207</td> <td>   -4.061</td> <td> 0.000</td> <td>   -1.246</td> <td>   -0.435</td>\n",
       "</tr>\n",
       "<tr>\n",
       "  <th>sigma2</th> <td> 2285.6000</td> <td>  157.952</td> <td>   14.470</td> <td> 0.000</td> <td> 1976.020</td> <td> 2595.180</td>\n",
       "</tr>\n",
       "</table>\n",
       "<table class=\"simpletable\">\n",
       "<tr>\n",
       "  <th>Ljung-Box (L1) (Q):</th>     <td>0.00</td> <th>  Jarque-Bera (JB):  </th> <td>196.24</td>\n",
       "</tr>\n",
       "<tr>\n",
       "  <th>Prob(Q):</th>                <td>0.96</td> <th>  Prob(JB):          </th>  <td>0.00</td> \n",
       "</tr>\n",
       "<tr>\n",
       "  <th>Heteroskedasticity (H):</th> <td>1.08</td> <th>  Skew:              </th>  <td>-0.58</td>\n",
       "</tr>\n",
       "<tr>\n",
       "  <th>Prob(H) (two-sided):</th>    <td>0.35</td> <th>  Kurtosis:          </th>  <td>1.75</td> \n",
       "</tr>\n",
       "</table><br/><br/>Warnings:<br/>[1] Covariance matrix calculated using the outer product of gradients (complex-step)."
      ],
      "text/plain": [
       "<class 'statsmodels.iolib.summary.Summary'>\n",
       "\"\"\"\n",
       "                               SARIMAX Results                                \n",
       "==============================================================================\n",
       "Dep. Variable:            No of Cases   No. Observations:                 1630\n",
       "Model:                 ARIMA(2, 1, 2)   Log Likelihood               -8614.726\n",
       "Date:                Fri, 04 Nov 2022   AIC                          17239.452\n",
       "Time:                        17:16:50   BIC                          17266.430\n",
       "Sample:                             0   HQIC                         17249.461\n",
       "                               - 1630                                         \n",
       "Covariance Type:                  opg                                         \n",
       "==============================================================================\n",
       "                 coef    std err          z      P>|z|      [0.025      0.975]\n",
       "------------------------------------------------------------------------------\n",
       "ar.L1         -0.8409      0.203     -4.146      0.000      -1.238      -0.443\n",
       "ar.L2         -0.0210      0.027     -0.777      0.437      -0.074       0.032\n",
       "ma.L1         -0.1595      0.210     -0.760      0.447      -0.571       0.252\n",
       "ma.L2         -0.8404      0.207     -4.061      0.000      -1.246      -0.435\n",
       "sigma2      2285.6000    157.952     14.470      0.000    1976.020    2595.180\n",
       "===================================================================================\n",
       "Ljung-Box (L1) (Q):                   0.00   Jarque-Bera (JB):               196.24\n",
       "Prob(Q):                              0.96   Prob(JB):                         0.00\n",
       "Heteroskedasticity (H):               1.08   Skew:                            -0.58\n",
       "Prob(H) (two-sided):                  0.35   Kurtosis:                         1.75\n",
       "===================================================================================\n",
       "\n",
       "Warnings:\n",
       "[1] Covariance matrix calculated using the outer product of gradients (complex-step).\n",
       "\"\"\""
      ]
     },
     "execution_count": 25,
     "metadata": {},
     "output_type": "execute_result"
    }
   ],
   "source": [
    "ARIMAmodel.summary()"
   ]
  },
  {
   "cell_type": "code",
   "execution_count": 26,
   "id": "bf794326",
   "metadata": {
    "scrolled": true
   },
   "outputs": [
    {
     "data": {
      "image/png": "[encoded data removed]",
      "text/plain": [
       "<Figure size 1152x432 with 2 Axes>"
      ]
     },
     "metadata": {},
     "output_type": "display_data"
    }
   ],
   "source": [
    "# Plotting Residual Errors  \n",
    "residuals = pd.DataFrame(ARIMAmodel.resid)  \n",
    "fig, ax = plt.subplots(1,2)  \n",
    "residuals.plot(title = \"Residuals\", ax = ax[0])  \n",
    "residuals.plot(kind = 'kde', title = 'Density', ax = ax[1])  \n",
    "plt.show()  "
   ]
  },
  {
   "cell_type": "code",
   "execution_count": 27,
   "id": "c638e74a",
   "metadata": {},
   "outputs": [
    {
     "name": "stdout",
     "output_type": "stream",
     "text": [
      "43.63290901786572\n",
      "2401.874203800858\n",
      "49.008919635111916\n"
     ]
    }
   ],
   "source": [
    "# checking accuracy\n",
    "from sklearn import metrics\n",
    "print(metrics.mean_absolute_error(test, y_pred_out))  \n",
    "print(metrics.mean_squared_error(test, y_pred_out))     \n",
    "print(np.sqrt(metrics.mean_squared_error(test, y_pred_out)))  "
   ]
  },
  {
   "cell_type": "code",
   "execution_count": 28,
   "id": "e14c15e6",
   "metadata": {
    "scrolled": true
   },
   "outputs": [
    {
     "name": "stderr",
     "output_type": "stream",
     "text": [
      "C:\\Users\\user\\anaconda3\\lib\\site-packages\\statsmodels\\tsa\\base\\tsa_model.py:471: ValueWarning: No frequency information was provided, so inferred frequency D will be used.\n",
      "  self._init_dates(dates, freq)\n",
      "C:\\Users\\user\\anaconda3\\lib\\site-packages\\statsmodels\\tsa\\base\\tsa_model.py:471: ValueWarning: No frequency information was provided, so inferred frequency D will be used.\n",
      "  self._init_dates(dates, freq)\n",
      "C:\\Users\\user\\anaconda3\\lib\\site-packages\\statsmodels\\tsa\\base\\tsa_model.py:471: ValueWarning: No frequency information was provided, so inferred frequency D will be used.\n",
      "  self._init_dates(dates, freq)\n",
      "C:\\Users\\user\\anaconda3\\lib\\site-packages\\statsmodels\\tsa\\statespace\\sarimax.py:966: UserWarning: Non-stationary starting autoregressive parameters found. Using zeros as starting parameters.\n",
      "  warn('Non-stationary starting autoregressive parameters'\n",
      "C:\\Users\\user\\anaconda3\\lib\\site-packages\\statsmodels\\tsa\\statespace\\sarimax.py:978: UserWarning: Non-invertible starting MA parameters found. Using zeros as starting parameters.\n",
      "  warn('Non-invertible starting MA parameters found.'\n"
     ]
    }
   ],
   "source": [
    "# Running model on all data\n",
    "ARIMAmodel = ARIMA(data1.squeeze(), order = (2, 1, 2))\n",
    "ARIMAmodel = ARIMAmodel.fit()"
   ]
  },
  {
   "cell_type": "code",
   "execution_count": 29,
   "id": "4ca1821f",
   "metadata": {},
   "outputs": [
    {
     "data": {
      "text/html": [
       "<table class=\"simpletable\">\n",
       "<caption>SARIMAX Results</caption>\n",
       "<tr>\n",
       "  <th>Dep. Variable:</th>      <td>No of Cases</td>   <th>  No. Observations:  </th>    <td>2038</td>   \n",
       "</tr>\n",
       "<tr>\n",
       "  <th>Model:</th>            <td>ARIMA(2, 1, 2)</td>  <th>  Log Likelihood     </th> <td>-10029.083</td>\n",
       "</tr>\n",
       "<tr>\n",
       "  <th>Date:</th>            <td>Fri, 04 Nov 2022</td> <th>  AIC                </th>  <td>20068.166</td>\n",
       "</tr>\n",
       "<tr>\n",
       "  <th>Time:</th>                <td>17:17:07</td>     <th>  BIC                </th>  <td>20096.262</td>\n",
       "</tr>\n",
       "<tr>\n",
       "  <th>Sample:</th>             <td>01-01-2017</td>    <th>  HQIC               </th>  <td>20078.473</td>\n",
       "</tr>\n",
       "<tr>\n",
       "  <th></th>                   <td>- 07-31-2022</td>   <th>                     </th>      <td> </td>    \n",
       "</tr>\n",
       "<tr>\n",
       "  <th>Covariance Type:</th>        <td>opg</td>       <th>                     </th>      <td> </td>    \n",
       "</tr>\n",
       "</table>\n",
       "<table class=\"simpletable\">\n",
       "<tr>\n",
       "     <td></td>       <th>coef</th>     <th>std err</th>      <th>z</th>      <th>P>|z|</th>  <th>[0.025</th>    <th>0.975]</th>  \n",
       "</tr>\n",
       "<tr>\n",
       "  <th>ar.L1</th>  <td>    1.1015</td> <td>    0.015</td> <td>   75.051</td> <td> 0.000</td> <td>    1.073</td> <td>    1.130</td>\n",
       "</tr>\n",
       "<tr>\n",
       "  <th>ar.L2</th>  <td>   -0.8242</td> <td>    0.016</td> <td>  -52.863</td> <td> 0.000</td> <td>   -0.855</td> <td>   -0.794</td>\n",
       "</tr>\n",
       "<tr>\n",
       "  <th>ma.L1</th>  <td>   -1.6380</td> <td>    0.016</td> <td> -103.058</td> <td> 0.000</td> <td>   -1.669</td> <td>   -1.607</td>\n",
       "</tr>\n",
       "<tr>\n",
       "  <th>ma.L2</th>  <td>    0.8281</td> <td>    0.016</td> <td>   53.041</td> <td> 0.000</td> <td>    0.797</td> <td>    0.859</td>\n",
       "</tr>\n",
       "<tr>\n",
       "  <th>sigma2</th> <td> 1104.3467</td> <td>   45.776</td> <td>   24.125</td> <td> 0.000</td> <td> 1014.627</td> <td> 1194.066</td>\n",
       "</tr>\n",
       "</table>\n",
       "<table class=\"simpletable\">\n",
       "<tr>\n",
       "  <th>Ljung-Box (L1) (Q):</th>     <td>11.75</td> <th>  Jarque-Bera (JB):  </th> <td>49.48</td>\n",
       "</tr>\n",
       "<tr>\n",
       "  <th>Prob(Q):</th>                <td>0.00</td>  <th>  Prob(JB):          </th> <td>0.00</td> \n",
       "</tr>\n",
       "<tr>\n",
       "  <th>Heteroskedasticity (H):</th> <td>0.98</td>  <th>  Skew:              </th> <td>0.04</td> \n",
       "</tr>\n",
       "<tr>\n",
       "  <th>Prob(H) (two-sided):</th>    <td>0.84</td>  <th>  Kurtosis:          </th> <td>2.24</td> \n",
       "</tr>\n",
       "</table><br/><br/>Warnings:<br/>[1] Covariance matrix calculated using the outer product of gradients (complex-step)."
      ],
      "text/plain": [
       "<class 'statsmodels.iolib.summary.Summary'>\n",
       "\"\"\"\n",
       "                               SARIMAX Results                                \n",
       "==============================================================================\n",
       "Dep. Variable:            No of Cases   No. Observations:                 2038\n",
       "Model:                 ARIMA(2, 1, 2)   Log Likelihood              -10029.083\n",
       "Date:                Fri, 04 Nov 2022   AIC                          20068.166\n",
       "Time:                        17:17:07   BIC                          20096.262\n",
       "Sample:                    01-01-2017   HQIC                         20078.473\n",
       "                         - 07-31-2022                                         \n",
       "Covariance Type:                  opg                                         \n",
       "==============================================================================\n",
       "                 coef    std err          z      P>|z|      [0.025      0.975]\n",
       "------------------------------------------------------------------------------\n",
       "ar.L1          1.1015      0.015     75.051      0.000       1.073       1.130\n",
       "ar.L2         -0.8242      0.016    -52.863      0.000      -0.855      -0.794\n",
       "ma.L1         -1.6380      0.016   -103.058      0.000      -1.669      -1.607\n",
       "ma.L2          0.8281      0.016     53.041      0.000       0.797       0.859\n",
       "sigma2      1104.3467     45.776     24.125      0.000    1014.627    1194.066\n",
       "===================================================================================\n",
       "Ljung-Box (L1) (Q):                  11.75   Jarque-Bera (JB):                49.48\n",
       "Prob(Q):                              0.00   Prob(JB):                         0.00\n",
       "Heteroskedasticity (H):               0.98   Skew:                             0.04\n",
       "Prob(H) (two-sided):                  0.84   Kurtosis:                         2.24\n",
       "===================================================================================\n",
       "\n",
       "Warnings:\n",
       "[1] Covariance matrix calculated using the outer product of gradients (complex-step).\n",
       "\"\"\""
      ]
     },
     "execution_count": 29,
     "metadata": {},
     "output_type": "execute_result"
    }
   ],
   "source": [
    "ARIMAmodel.summary()"
   ]
  },
  {
   "cell_type": "code",
   "execution_count": 30,
   "id": "4d724047",
   "metadata": {},
   "outputs": [],
   "source": [
    "y_pred = ARIMAmodel.forecast(30)"
   ]
  },
  {
   "cell_type": "code",
   "execution_count": 31,
   "id": "3a76dd52",
   "metadata": {},
   "outputs": [],
   "source": [
    "a = y_pred.to_frame()"
   ]
  },
  {
   "cell_type": "code",
   "execution_count": 39,
   "id": "8272bac6",
   "metadata": {},
   "outputs": [],
   "source": [
    "a.to_csv(\"Product_forecast with arima.csv\",index= False )"
   ]
  },
  {
   "cell_type": "markdown",
   "id": "ff4db9b3",
   "metadata": {},
   "source": [
    "### Running rolling K-fold Cross validation "
   ]
  },
  {
   "cell_type": "code",
   "execution_count": 30,
   "id": "231182fc",
   "metadata": {},
   "outputs": [
    {
     "ename": "NameError",
     "evalue": "name 'cross_validation' is not defined",
     "output_type": "error",
     "traceback": [
      "\u001b[1;31m---------------------------------------------------------------------------\u001b[0m",
      "\u001b[1;31mNameError\u001b[0m                                 Traceback (most recent call last)",
      "Input \u001b[1;32mIn [30]\u001b[0m, in \u001b[0;36m<cell line: 6>\u001b[1;34m()\u001b[0m\n\u001b[0;32m      4\u001b[0m tscv \u001b[38;5;241m=\u001b[39m TimeSeriesSplit(n_splits \u001b[38;5;241m=\u001b[39m \u001b[38;5;241m4\u001b[39m)\n\u001b[0;32m      5\u001b[0m rmse \u001b[38;5;241m=\u001b[39m []\n\u001b[1;32m----> 6\u001b[0m \u001b[38;5;28;01mfor\u001b[39;00m train_index, test_index \u001b[38;5;129;01min\u001b[39;00m tscv\u001b[38;5;241m.\u001b[39msplit(\u001b[43mcross_validation\u001b[49m):\n\u001b[0;32m      7\u001b[0m     cv_train, cv_test \u001b[38;5;241m=\u001b[39m cross_validation\u001b[38;5;241m.\u001b[39miloc[train_index], cross_validation\u001b[38;5;241m.\u001b[39miloc[test_index]\n\u001b[0;32m      9\u001b[0m     arma \u001b[38;5;241m=\u001b[39m sm\u001b[38;5;241m.\u001b[39mtsa\u001b[38;5;241m.\u001b[39mARMA(cv_train, (\u001b[38;5;241m2\u001b[39m,\u001b[38;5;241m2\u001b[39m))\u001b[38;5;241m.\u001b[39mfit(disp\u001b[38;5;241m=\u001b[39m\u001b[38;5;28;01mFalse\u001b[39;00m)\n",
      "\u001b[1;31mNameError\u001b[0m: name 'cross_validation' is not defined"
     ]
    }
   ],
   "source": [
    "from sklearn.model_selection import TimeSeriesSplit\n",
    "from sklearn.metrics import mean_squared_error\n",
    "import statsmodels.api as sm\n",
    "tscv = TimeSeriesSplit(n_splits = 4)\n",
    "rmse = []\n",
    "for train_index, test_index in tscv.split(cross_validation):\n",
    "    cv_train, cv_test = cross_validation.iloc[train_index], cross_validation.iloc[test_index]\n",
    "    \n",
    "    arma = sm.tsa.ARMA(cv_train, (2,2)).fit(disp=False)\n",
    "    \n",
    "    predictions = arma.predict(cv_test.index.values[0], cv_test.index.values[-1])\n",
    "    true_values = cv_test.values\n",
    "    rmse.append(sqrt(mean_squared_error(true_values, predictions)))\n",
    "    \n",
    "print(\"RMSE: {}\".format(np.mean(rmse)))"
   ]
  },
  {
   "cell_type": "code",
   "execution_count": null,
   "id": "25411c50",
   "metadata": {},
   "outputs": [],
   "source": []
  },
  {
   "cell_type": "code",
   "execution_count": null,
   "id": "709d091d",
   "metadata": {},
   "outputs": [],
   "source": []
  },
  {
   "cell_type": "code",
   "execution_count": null,
   "id": "0255011e",
   "metadata": {},
   "outputs": [],
   "source": []
  },
  {
   "cell_type": "code",
   "execution_count": null,
   "id": "d6c79b8b",
   "metadata": {},
   "outputs": [],
   "source": []
  },
  {
   "cell_type": "code",
   "execution_count": null,
   "id": "104e1366",
   "metadata": {},
   "outputs": [],
   "source": []
  },
  {
   "cell_type": "markdown",
   "id": "b699f7fe",
   "metadata": {},
   "source": [
    "### AUTO ARIMA"
   ]
  },
  {
   "cell_type": "code",
   "execution_count": 34,
   "id": "64d460c0",
   "metadata": {},
   "outputs": [
    {
     "name": "stdout",
     "output_type": "stream",
     "text": [
      "Performing stepwise search to minimize aic\n",
      " ARIMA(0,1,0)(0,1,1)[12]             : AIC=inf, Time=0.98 sec\n",
      " ARIMA(0,1,0)(0,1,0)[12]             : AIC=19329.861, Time=0.12 sec\n",
      " ARIMA(1,1,0)(1,1,0)[12]             : AIC=18355.391, Time=0.82 sec\n",
      " ARIMA(0,1,1)(0,1,1)[12]             : AIC=inf, Time=1.80 sec\n",
      " ARIMA(1,1,0)(0,1,0)[12]             : AIC=18839.545, Time=0.19 sec\n",
      " ARIMA(1,1,0)(2,1,0)[12]             : AIC=18161.660, Time=2.22 sec\n",
      " ARIMA(1,1,0)(3,1,0)[12]             : AIC=18091.938, Time=4.21 sec\n",
      " ARIMA(1,1,0)(3,1,1)[12]             : AIC=inf, Time=14.76 sec\n",
      " ARIMA(1,1,0)(2,1,1)[12]             : AIC=inf, Time=8.75 sec\n",
      " ARIMA(0,1,0)(3,1,0)[12]             : AIC=18581.565, Time=4.58 sec\n",
      " ARIMA(2,1,0)(3,1,0)[12]             : AIC=17864.833, Time=7.93 sec\n",
      " ARIMA(2,1,0)(2,1,0)[12]             : AIC=17935.219, Time=4.82 sec\n",
      " ARIMA(2,1,0)(3,1,1)[12]             : AIC=inf, Time=18.31 sec\n",
      " ARIMA(2,1,0)(2,1,1)[12]             : AIC=inf, Time=11.15 sec\n",
      " ARIMA(3,1,0)(3,1,0)[12]             : AIC=17812.136, Time=8.00 sec\n",
      " ARIMA(3,1,0)(2,1,0)[12]             : AIC=17883.210, Time=5.41 sec\n",
      " ARIMA(3,1,0)(3,1,1)[12]             : AIC=inf, Time=21.60 sec\n",
      " ARIMA(3,1,0)(2,1,1)[12]             : AIC=inf, Time=14.10 sec\n",
      " ARIMA(3,1,1)(3,1,0)[12]             : AIC=inf, Time=21.80 sec\n",
      " ARIMA(2,1,1)(3,1,0)[12]             : AIC=inf, Time=15.31 sec\n",
      " ARIMA(3,1,0)(3,1,0)[12] intercept   : AIC=17814.136, Time=16.27 sec\n",
      "\n",
      "Best model:  ARIMA(3,1,0)(3,1,0)[12]          \n",
      "Total fit time: 183.205 seconds\n"
     ]
    }
   ],
   "source": [
    "# AUTO ARIMA\n",
    "# model created on training set\n",
    "import pmdarima as pmd\n",
    "auto_arima_model = pmd.auto_arima(train,start_p=0, d=1, start_q=0, max_p=3, max_d=3, max_q=3, start_P=0, D=1, start_Q=1, max_P=3, max_D=3, max_Q= 3, \n",
    "                   m=12, seasonal=True, error_action='warn', trace = True, supress_warnings= True, stepwise = True, \n",
    "                   random_state=5, n_fits = 5 )"
   ]
  },
  {
   "cell_type": "code",
   "execution_count": 35,
   "id": "92a3529e",
   "metadata": {},
   "outputs": [
    {
     "data": {
      "text/html": [
       "<table class=\"simpletable\">\n",
       "<caption>SARIMAX Results</caption>\n",
       "<tr>\n",
       "  <th>Dep. Variable:</th>                  <td>y</td>               <th>  No. Observations:  </th>   <td>1630</td>   \n",
       "</tr>\n",
       "<tr>\n",
       "  <th>Model:</th>           <td>SARIMAX(3, 1, 0)x(3, 1, 0, 12)</td> <th>  Log Likelihood     </th> <td>-8899.068</td>\n",
       "</tr>\n",
       "<tr>\n",
       "  <th>Date:</th>                   <td>Fri, 04 Nov 2022</td>        <th>  AIC                </th> <td>17812.136</td>\n",
       "</tr>\n",
       "<tr>\n",
       "  <th>Time:</th>                       <td>17:21:22</td>            <th>  BIC                </th> <td>17849.854</td>\n",
       "</tr>\n",
       "<tr>\n",
       "  <th>Sample:</th>                         <td>0</td>               <th>  HQIC               </th> <td>17826.134</td>\n",
       "</tr>\n",
       "<tr>\n",
       "  <th></th>                             <td> - 1630</td>            <th>                     </th>     <td> </td>    \n",
       "</tr>\n",
       "<tr>\n",
       "  <th>Covariance Type:</th>               <td>opg</td>              <th>                     </th>     <td> </td>    \n",
       "</tr>\n",
       "</table>\n",
       "<table class=\"simpletable\">\n",
       "<tr>\n",
       "      <td></td>        <th>coef</th>     <th>std err</th>      <th>z</th>      <th>P>|z|</th>  <th>[0.025</th>    <th>0.975]</th>  \n",
       "</tr>\n",
       "<tr>\n",
       "  <th>ar.L1</th>    <td>   -0.7664</td> <td>    0.026</td> <td>  -29.662</td> <td> 0.000</td> <td>   -0.817</td> <td>   -0.716</td>\n",
       "</tr>\n",
       "<tr>\n",
       "  <th>ar.L2</th>    <td>   -0.4928</td> <td>    0.029</td> <td>  -16.783</td> <td> 0.000</td> <td>   -0.550</td> <td>   -0.435</td>\n",
       "</tr>\n",
       "<tr>\n",
       "  <th>ar.L3</th>    <td>   -0.1826</td> <td>    0.026</td> <td>   -7.112</td> <td> 0.000</td> <td>   -0.233</td> <td>   -0.132</td>\n",
       "</tr>\n",
       "<tr>\n",
       "  <th>ar.S.L12</th> <td>   -0.7697</td> <td>    0.025</td> <td>  -30.436</td> <td> 0.000</td> <td>   -0.819</td> <td>   -0.720</td>\n",
       "</tr>\n",
       "<tr>\n",
       "  <th>ar.S.L24</th> <td>   -0.5135</td> <td>    0.029</td> <td>  -17.577</td> <td> 0.000</td> <td>   -0.571</td> <td>   -0.456</td>\n",
       "</tr>\n",
       "<tr>\n",
       "  <th>ar.S.L36</th> <td>   -0.2122</td> <td>    0.024</td> <td>   -8.668</td> <td> 0.000</td> <td>   -0.260</td> <td>   -0.164</td>\n",
       "</tr>\n",
       "<tr>\n",
       "  <th>sigma2</th>   <td> 3509.6245</td> <td>  141.847</td> <td>   24.742</td> <td> 0.000</td> <td> 3231.609</td> <td> 3787.640</td>\n",
       "</tr>\n",
       "</table>\n",
       "<table class=\"simpletable\">\n",
       "<tr>\n",
       "  <th>Ljung-Box (L1) (Q):</th>     <td>1.99</td> <th>  Jarque-Bera (JB):  </th> <td>37.02</td>\n",
       "</tr>\n",
       "<tr>\n",
       "  <th>Prob(Q):</th>                <td>0.16</td> <th>  Prob(JB):          </th> <td>0.00</td> \n",
       "</tr>\n",
       "<tr>\n",
       "  <th>Heteroskedasticity (H):</th> <td>1.09</td> <th>  Skew:              </th> <td>-0.28</td>\n",
       "</tr>\n",
       "<tr>\n",
       "  <th>Prob(H) (two-sided):</th>    <td>0.30</td> <th>  Kurtosis:          </th> <td>2.52</td> \n",
       "</tr>\n",
       "</table><br/><br/>Warnings:<br/>[1] Covariance matrix calculated using the outer product of gradients (complex-step)."
      ],
      "text/plain": [
       "<class 'statsmodels.iolib.summary.Summary'>\n",
       "\"\"\"\n",
       "                                     SARIMAX Results                                      \n",
       "==========================================================================================\n",
       "Dep. Variable:                                  y   No. Observations:                 1630\n",
       "Model:             SARIMAX(3, 1, 0)x(3, 1, 0, 12)   Log Likelihood               -8899.068\n",
       "Date:                            Fri, 04 Nov 2022   AIC                          17812.136\n",
       "Time:                                    17:21:22   BIC                          17849.854\n",
       "Sample:                                         0   HQIC                         17826.134\n",
       "                                           - 1630                                         \n",
       "Covariance Type:                              opg                                         \n",
       "==============================================================================\n",
       "                 coef    std err          z      P>|z|      [0.025      0.975]\n",
       "------------------------------------------------------------------------------\n",
       "ar.L1         -0.7664      0.026    -29.662      0.000      -0.817      -0.716\n",
       "ar.L2         -0.4928      0.029    -16.783      0.000      -0.550      -0.435\n",
       "ar.L3         -0.1826      0.026     -7.112      0.000      -0.233      -0.132\n",
       "ar.S.L12      -0.7697      0.025    -30.436      0.000      -0.819      -0.720\n",
       "ar.S.L24      -0.5135      0.029    -17.577      0.000      -0.571      -0.456\n",
       "ar.S.L36      -0.2122      0.024     -8.668      0.000      -0.260      -0.164\n",
       "sigma2      3509.6245    141.847     24.742      0.000    3231.609    3787.640\n",
       "===================================================================================\n",
       "Ljung-Box (L1) (Q):                   1.99   Jarque-Bera (JB):                37.02\n",
       "Prob(Q):                              0.16   Prob(JB):                         0.00\n",
       "Heteroskedasticity (H):               1.09   Skew:                            -0.28\n",
       "Prob(H) (two-sided):                  0.30   Kurtosis:                         2.52\n",
       "===================================================================================\n",
       "\n",
       "Warnings:\n",
       "[1] Covariance matrix calculated using the outer product of gradients (complex-step).\n",
       "\"\"\""
      ]
     },
     "execution_count": 35,
     "metadata": {},
     "output_type": "execute_result"
    }
   ],
   "source": [
    "auto_arima_model.summary()"
   ]
  },
  {
   "cell_type": "code",
   "execution_count": 36,
   "id": "96e73184",
   "metadata": {
    "scrolled": false
   },
   "outputs": [
    {
     "name": "stderr",
     "output_type": "stream",
     "text": [
      "C:\\Users\\user\\anaconda3\\lib\\site-packages\\statsmodels\\tsa\\base\\tsa_model.py:834: ValueWarning: No supported index is available. Prediction results will be given with an integer index beginning at `start`.\n",
      "  return get_prediction_index(\n"
     ]
    },
    {
     "data": {
      "text/plain": [
       "1630    119.541929\n",
       "1631     84.921421\n",
       "1632    124.305343\n",
       "1633     57.985494\n",
       "1634    130.502186\n",
       "           ...    \n",
       "2033    437.600419\n",
       "2034    395.997071\n",
       "2035    412.309993\n",
       "2036    421.103373\n",
       "2037    380.160572\n",
       "Length: 408, dtype: float64"
      ]
     },
     "execution_count": 36,
     "metadata": {},
     "output_type": "execute_result"
    }
   ],
   "source": [
    "# Running model on test set\n",
    "auto_arima_model.predict(n_periods = len(test.index))"
   ]
  },
  {
   "cell_type": "code",
   "execution_count": 37,
   "id": "eea89cee",
   "metadata": {},
   "outputs": [
    {
     "name": "stderr",
     "output_type": "stream",
     "text": [
      "C:\\Users\\user\\anaconda3\\lib\\site-packages\\statsmodels\\tsa\\base\\tsa_model.py:834: ValueWarning: No supported index is available. Prediction results will be given with an integer index beginning at `start`.\n",
      "  return get_prediction_index(\n"
     ]
    }
   ],
   "source": [
    "auto_predict = auto_arima_model.predict(n_periods = len(test.index))"
   ]
  },
  {
   "cell_type": "code",
   "execution_count": 38,
   "id": "67bc7db3",
   "metadata": {
    "scrolled": true
   },
   "outputs": [
    {
     "name": "stdout",
     "output_type": "stream",
     "text": [
      "181.23639764858598\n",
      "44084.187565451444\n",
      "209.9623479708956\n"
     ]
    }
   ],
   "source": [
    "# checking accuracy\n",
    "from sklearn import metrics\n",
    "print(metrics.mean_absolute_error(test, auto_predict))  \n",
    "print(metrics.mean_squared_error(test, auto_predict))     \n",
    "print(np.sqrt(metrics.mean_squared_error(test, auto_predict))) "
   ]
  },
  {
   "cell_type": "markdown",
   "id": "0cfc273d",
   "metadata": {},
   "source": [
    "### We have chosen Arima model (out of Arima and Auto Arima) because we were getting less MAE, MSE and RMSE values for it"
   ]
  },
  {
   "cell_type": "code",
   "execution_count": null,
   "id": "435f8dfe",
   "metadata": {},
   "outputs": [],
   "source": []
  }
 ],
 "metadata": {
  "kernelspec": {
   "display_name": "Python 3 (ipykernel)",
   "language": "python",
   "name": "python3"
  },
  "language_info": {
   "codemirror_mode": {
    "name": "ipython",
    "version": 3
   },
   "file_extension": ".py",
   "mimetype": "text/x-python",
   "name": "python",
   "nbconvert_exporter": "python",
   "pygments_lexer": "ipython3",
   "version": "3.9.12"
  }
 },
 "nbformat": 4,
 "nbformat_minor": 5
}
